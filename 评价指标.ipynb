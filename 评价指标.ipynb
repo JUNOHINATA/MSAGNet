{
 "cells": [
  {
   "cell_type": "code",
   "execution_count": 2,
   "id": "f773c8fe",
   "metadata": {},
   "outputs": [
    {
     "name": "stdout",
     "output_type": "stream",
     "text": [
      "每顶点平均误差: 0.010047981904609425\n"
     ]
    }
   ],
   "source": [
    "import numpy as np\n",
    "\n",
    "def read_obj_vertices(filename):\n",
    "    vertices = []\n",
    "    with open(filename, 'r') as file:\n",
    "        for line in file:\n",
    "            if line.startswith('v '):\n",
    "                parts = line.split()\n",
    "                vertex = np.array(parts[1:4], dtype=float)\n",
    "                vertices.append(vertex)\n",
    "    return np.array(vertices)\n",
    "\n",
    "def calculate_average_vertex_error(obj_file1, obj_file2):\n",
    "    vertices1 = read_obj_vertices(obj_file1)\n",
    "    vertices2 = read_obj_vertices(obj_file2)\n",
    "    \n",
    "    if len(vertices1) != len(vertices2):\n",
    "        raise ValueError(\"顶点数量不匹配\")\n",
    "    \n",
    "    errors = np.linalg.norm(vertices1 - vertices2, axis=1)\n",
    "    average_error = np.mean(errors)\n",
    "    return average_error\n",
    "\n",
    "# 替换为您的文件路径\n",
    "obj_file1 = '0001_garment.obj'\n",
    "obj_file2 = '0000_garment.obj'\n",
    "\n",
    "average_error = calculate_average_vertex_error(obj_file1, obj_file2)\n",
    "print(f\"每顶点平均误差: {average_error}\")\n"
   ]
  },
  {
   "cell_type": "code",
   "execution_count": 4,
   "id": "11402434",
   "metadata": {},
   "outputs": [
    {
     "name": "stdout",
     "output_type": "stream",
     "text": [
      "Average number of collisions per vertex: 0.07840564258180924\n"
     ]
    }
   ],
   "source": [
    "import numpy as np\n",
    "\n",
    "def read_obj(filepath):\n",
    "    vertices = []\n",
    "    faces = []\n",
    "    with open(filepath, 'r') as file:\n",
    "        for line in file:\n",
    "            if line.startswith('v '):\n",
    "                vertex = list(map(float, line.strip().split(' ')[1:]))\n",
    "                vertices.append(vertex)\n",
    "            elif line.startswith('f '):\n",
    "                face = list(map(lambda x: int(x) - 1, line.strip().split(' ')[1:]))\n",
    "                faces.append(face)\n",
    "    return np.array(vertices), np.array(faces)\n",
    "\n",
    "def detect_collision(vertex, vertices, faces):\n",
    "    # 碰撞检测的简单示例：检查顶点是否在任何一个面片的包围盒内\n",
    "    for face in faces:\n",
    "        face_vertices = vertices[face]\n",
    "        min_coords = np.min(face_vertices, axis=0)\n",
    "        max_coords = np.max(face_vertices, axis=0)\n",
    "        if np.all(vertex >= min_coords) and np.all(vertex <= max_coords):\n",
    "            return True\n",
    "    return False\n",
    "\n",
    "# 读取服装和障碍物的OBJ文件\n",
    "garment_vertices, garment_faces = read_obj('0046_garment.obj')\n",
    "obstacle_vertices, obstacle_faces = read_obj('0046_obstacle.obj')\n",
    "\n",
    "# 初始化碰撞计数\n",
    "collision_count = 0\n",
    "\n",
    "# 对每个服装顶点进行碰撞检测\n",
    "for vertex in garment_vertices:\n",
    "    if detect_collision(vertex, obstacle_vertices, obstacle_faces):\n",
    "        collision_count += 1\n",
    "\n",
    "# 计算平均碰撞次数\n",
    "average_collisions = collision_count / len(garment_vertices)\n",
    "\n",
    "print(f'Average number of collisions per vertex: {average_collisions}')\n"
   ]
  },
  {
   "cell_type": "code",
   "execution_count": 7,
   "id": "0b426bed",
   "metadata": {},
   "outputs": [
    {
     "name": "stdout",
     "output_type": "stream",
     "text": [
      "Average number of self-collisions per vertex: 0.023481664009276707\n"
     ]
    }
   ],
   "source": [
    "import numpy as np\n",
    "\n",
    "def read_obj(filepath):\n",
    "    vertices = []\n",
    "    faces = []\n",
    "    with open(filepath, 'r') as file:\n",
    "        for line in file:\n",
    "            if line.startswith('v '):\n",
    "                vertex = list(map(float, line.strip().split(' ')[1:]))\n",
    "                vertices.append(vertex)\n",
    "            elif line.startswith('f '):\n",
    "                face = list(map(lambda x: int(x.split('/')[0]) - 1, line.strip().split(' ')[1:]))\n",
    "                faces.append(face)\n",
    "    return np.array(vertices), np.array(faces)\n",
    "\n",
    "def detect_self_collision(vertices, faces):\n",
    "    collision_count = 0\n",
    "    for i, vertex in enumerate(vertices):\n",
    "        for face in faces:\n",
    "            # 确保顶点不在它所属的面片上\n",
    "            if i not in face:\n",
    "                # 简单的碰撞检测：检查顶点是否在面片的包围盒内\n",
    "                face_vertices = vertices[face]\n",
    "                min_coords = np.min(face_vertices, axis=0)\n",
    "                max_coords = np.max(face_vertices, axis=0)\n",
    "                if np.all(vertex >= min_coords) and np.all(vertex <= max_coords):\n",
    "                    collision_count += 1\n",
    "                    break  # 一个顶点只计算一次碰撞\n",
    "    return collision_count\n",
    "\n",
    "# 读取服装模型的OBJ文件\n",
    "garment_vertices, garment_faces = read_obj('0001_garment.obj')\n",
    "\n",
    "# 进行自碰撞检测\n",
    "total_collisions = detect_self_collision(garment_vertices, garment_faces)\n",
    "\n",
    "# 计算每顶点的平均碰撞次数\n",
    "average_collisions = total_collisions / len(garment_vertices)\n",
    "\n",
    "print(f'Average number of self-collisions per vertex: {average_collisions}')\n"
   ]
  }
 ],
 "metadata": {
  "kernelspec": {
   "display_name": "base",
   "language": "python",
   "name": "python3"
  },
  "language_info": {
   "codemirror_mode": {
    "name": "ipython",
    "version": 3
   },
   "file_extension": ".py",
   "mimetype": "text/x-python",
   "name": "python",
   "nbconvert_exporter": "python",
   "pygments_lexer": "ipython3",
   "version": "3.9.12"
  }
 },
 "nbformat": 4,
 "nbformat_minor": 5
}
